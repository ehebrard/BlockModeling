{
 "cells": [
  {
   "cell_type": "code",
   "execution_count": 80,
   "metadata": {},
   "outputs": [],
   "source": [
    "import matplotlib.pyplot as plt\n",
    "import numpy as np\n",
    "from random import *\n"
   ]
  },
  {
   "cell_type": "code",
   "execution_count": 97,
   "metadata": {},
   "outputs": [],
   "source": [
    "class Graph:\n",
    "    def __init__(self, V):\n",
    "        self.V = V\n",
    "        self.adj_list = [[] for i in range(V)]\n",
    "      \n",
    "    def add_edge(self,i,j):\n",
    "        self.adj_list[i].append(j)\n",
    "      \n",
    "    def adj(self,i):\n",
    "        return self.adj_list[i] \n",
    "\n",
    "    def adj_matrix(self):\n",
    "        matrix = [[0]*self.V for i in range(self.V)]\n",
    "        for i in range(self.V):\n",
    "            for j in self.adj_list[i]:\n",
    "                matrix[i][j] = 1\n",
    "        return matrix\n",
    "   "
   ]
  },
  {
   "cell_type": "markdown",
   "metadata": {},
   "source": [
    "Definiton of a Model    "
   ]
  },
  {
   "cell_type": "code",
   "execution_count": 110,
   "metadata": {},
   "outputs": [],
   "source": [
    "class BlockModel:\n",
    "    def __init__(self, K):\n",
    "        self.K = K\n",
    "        \n",
    "        self.M = [[random()  for i in range(K)] for j in range(K)]\n",
    "    def random_graph(self,nodes):\n",
    "        g = Graph(sum(nodes))\n",
    "        # block of each node\n",
    "        block = [e for i in range(len(nodes)) for e in [i]*nodes[i]]  \n",
    "        for i in range(g.V):\n",
    "            for j in range(g.V):\n",
    "                if random() <= self.M[block[i]][block[j]]:\n",
    "                    g.add_edge(i,j)\n",
    "        return g\n"
   ]
  },
  {
   "cell_type": "code",
   "execution_count": 111,
   "metadata": {},
   "outputs": [
    {
     "name": "stdout",
     "output_type": "stream",
     "text": [
      "hello\n"
     ]
    },
    {
     "data": {
      "image/png": "[encoded data removed]",
      "text/plain": [
       "<Figure size 432x288 with 1 Axes>"
      ]
     },
     "metadata": {
      "needs_background": "light"
     },
     "output_type": "display_data"
    }
   ],
   "source": [
    "print(\"hello\")\n",
    "nodes = [20,5,15,30]\n",
    "model = BlockModel(len(nodes))\n",
    "g = model.random_graph(nodes)\n",
    "\n",
    "fig = plt.figure(frameon=False)\n",
    "\n",
    "im1 = plt.imshow(g.adj_matrix(), cmap=plt.cm.gray, interpolation='nearest')\n",
    "\n",
    "#g.adj_matrix()\n",
    "\n",
    "#np.add.outer(range(8), range(8)) % 2\n"
   ]
  },
  {
   "cell_type": "code",
   "execution_count": null,
   "metadata": {},
   "outputs": [],
   "source": []
  },
  {
   "cell_type": "code",
   "execution_count": null,
   "metadata": {},
   "outputs": [],
   "source": []
  }
 ],
 "metadata": {
  "kernelspec": {
   "display_name": "Python 3",
   "language": "python",
   "name": "python3"
  },
  "language_info": {
   "codemirror_mode": {
    "name": "ipython",
    "version": 3
   },
   "file_extension": ".py",
   "mimetype": "text/x-python",
   "name": "python",
   "nbconvert_exporter": "python",
   "pygments_lexer": "ipython3",
   "version": "3.7.1"
  }
 },
 "nbformat": 4,
 "nbformat_minor": 2
}
